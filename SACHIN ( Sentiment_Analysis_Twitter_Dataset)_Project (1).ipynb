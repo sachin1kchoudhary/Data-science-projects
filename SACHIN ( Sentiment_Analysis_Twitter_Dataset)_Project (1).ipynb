{
 "cells": [
  {
   "cell_type": "code",
   "execution_count": 2,
   "id": "249ee4e9",
   "metadata": {
    "id": "249ee4e9"
   },
   "outputs": [],
   "source": [
    "import pandas as pd\n",
    "import numpy as np\n",
    "import matplotlib.pyplot as plt\n",
    "%matplotlib inline\n",
    "import seaborn as sns\n",
    "import nltk\n",
    "\n",
    "\n",
    "from nltk.tokenize import word_tokenize  # Split sentence into words and keep those words in form of a list\n",
    "from keras.preprocessing.text import Tokenizer  # Converts words into numeric values\n",
    "from tensorflow.keras.preprocessing.sequence import pad_sequences  # Equals all the sentences by filling 0\n",
    "from keras.models import Sequential\n",
    "from keras.layers import Embedding, LSTM, Dense, Dropout\n",
    "\n",
    "import warnings\n",
    "warnings.filterwarnings('ignore')"
   ]
  },
  {
   "cell_type": "code",
   "execution_count": 3,
   "id": "f9e219cc",
   "metadata": {},
   "outputs": [
    {
     "name": "stderr",
     "output_type": "stream",
     "text": [
      "[nltk_data] Downloading package stopwords to\n",
      "[nltk_data]     C:\\Users\\Sachin\\AppData\\Roaming\\nltk_data...\n",
      "[nltk_data]   Package stopwords is already up-to-date!\n"
     ]
    },
    {
     "data": {
      "text/plain": [
       "True"
      ]
     },
     "execution_count": 3,
     "metadata": {},
     "output_type": "execute_result"
    }
   ],
   "source": [
    "nltk.download('stopwords')"
   ]
  },
  {
   "cell_type": "code",
   "execution_count": 4,
   "id": "bd71fffa",
   "metadata": {},
   "outputs": [],
   "source": [
    "from nltk.corpus import stopwords"
   ]
  },
  {
   "cell_type": "code",
   "execution_count": 5,
   "id": "642bbbe5",
   "metadata": {},
   "outputs": [],
   "source": [
    "stpwrds=stopwords.words('english')"
   ]
  },
  {
   "cell_type": "code",
   "execution_count": 6,
   "id": "357dd537",
   "metadata": {},
   "outputs": [
    {
     "name": "stderr",
     "output_type": "stream",
     "text": [
      "[nltk_data] Downloading package punkt to\n",
      "[nltk_data]     C:\\Users\\Sachin\\AppData\\Roaming\\nltk_data...\n",
      "[nltk_data]   Package punkt is already up-to-date!\n"
     ]
    },
    {
     "data": {
      "text/plain": [
       "True"
      ]
     },
     "execution_count": 6,
     "metadata": {},
     "output_type": "execute_result"
    }
   ],
   "source": [
    "nltk.download('punkt')"
   ]
  },
  {
   "cell_type": "code",
   "execution_count": 7,
   "id": "00262419",
   "metadata": {
    "id": "00262419"
   },
   "outputs": [],
   "source": [
    "twit=pd.read_csv(r\"training.1600000.processed.noemoticon.csv\", encoding='latin-1', header=None).sample(frac=0.05).reset_index()"
   ]
  },
  {
   "cell_type": "code",
   "execution_count": 8,
   "id": "3fe9cff4",
   "metadata": {
    "id": "3fe9cff4",
    "outputId": "ef9210cb-1888-4f62-b982-2ffd032941ba"
   },
   "outputs": [
    {
     "data": {
      "text/html": [
       "<div>\n",
       "<style scoped>\n",
       "    .dataframe tbody tr th:only-of-type {\n",
       "        vertical-align: middle;\n",
       "    }\n",
       "\n",
       "    .dataframe tbody tr th {\n",
       "        vertical-align: top;\n",
       "    }\n",
       "\n",
       "    .dataframe thead th {\n",
       "        text-align: right;\n",
       "    }\n",
       "</style>\n",
       "<table border=\"1\" class=\"dataframe\">\n",
       "  <thead>\n",
       "    <tr style=\"text-align: right;\">\n",
       "      <th></th>\n",
       "      <th>index</th>\n",
       "      <th>0</th>\n",
       "      <th>1</th>\n",
       "      <th>2</th>\n",
       "      <th>3</th>\n",
       "      <th>4</th>\n",
       "      <th>5</th>\n",
       "    </tr>\n",
       "  </thead>\n",
       "  <tbody>\n",
       "    <tr>\n",
       "      <th>0</th>\n",
       "      <td>668398</td>\n",
       "      <td>0</td>\n",
       "      <td>2245920843</td>\n",
       "      <td>Fri Jun 19 16:50:02 PDT 2009</td>\n",
       "      <td>NO_QUERY</td>\n",
       "      <td>smellyocheese</td>\n",
       "      <td>I fell asleep with my makeup on</td>\n",
       "    </tr>\n",
       "    <tr>\n",
       "      <th>1</th>\n",
       "      <td>1144666</td>\n",
       "      <td>4</td>\n",
       "      <td>1977656935</td>\n",
       "      <td>Sat May 30 21:25:13 PDT 2009</td>\n",
       "      <td>NO_QUERY</td>\n",
       "      <td>Veronicaleigh</td>\n",
       "      <td>We decided to head tome tonight  watch out Bel...</td>\n",
       "    </tr>\n",
       "    <tr>\n",
       "      <th>2</th>\n",
       "      <td>12539</td>\n",
       "      <td>0</td>\n",
       "      <td>1551867108</td>\n",
       "      <td>Sat Apr 18 10:10:39 PDT 2009</td>\n",
       "      <td>NO_QUERY</td>\n",
       "      <td>fryfan20</td>\n",
       "      <td>@BertaWooster no, don't think it is</td>\n",
       "    </tr>\n",
       "    <tr>\n",
       "      <th>3</th>\n",
       "      <td>160964</td>\n",
       "      <td>0</td>\n",
       "      <td>1957186411</td>\n",
       "      <td>Thu May 28 23:45:44 PDT 2009</td>\n",
       "      <td>NO_QUERY</td>\n",
       "      <td>ItsIMANIrose</td>\n",
       "      <td>@professor12 gray! .... i so feel neglected</td>\n",
       "    </tr>\n",
       "    <tr>\n",
       "      <th>4</th>\n",
       "      <td>1381570</td>\n",
       "      <td>4</td>\n",
       "      <td>2052377265</td>\n",
       "      <td>Sat Jun 06 00:31:37 PDT 2009</td>\n",
       "      <td>NO_QUERY</td>\n",
       "      <td>DaysiJazmin</td>\n",
       "      <td>Anywho Tomorow is Movie Night @ Courtney's</td>\n",
       "    </tr>\n",
       "    <tr>\n",
       "      <th>...</th>\n",
       "      <td>...</td>\n",
       "      <td>...</td>\n",
       "      <td>...</td>\n",
       "      <td>...</td>\n",
       "      <td>...</td>\n",
       "      <td>...</td>\n",
       "      <td>...</td>\n",
       "    </tr>\n",
       "    <tr>\n",
       "      <th>79995</th>\n",
       "      <td>200817</td>\n",
       "      <td>0</td>\n",
       "      <td>1971755047</td>\n",
       "      <td>Sat May 30 07:49:37 PDT 2009</td>\n",
       "      <td>NO_QUERY</td>\n",
       "      <td>ChelseyHart</td>\n",
       "      <td>@tommcfly UK is pretty sunny today aswell! Don...</td>\n",
       "    </tr>\n",
       "    <tr>\n",
       "      <th>79996</th>\n",
       "      <td>400336</td>\n",
       "      <td>0</td>\n",
       "      <td>2057384652</td>\n",
       "      <td>Sat Jun 06 12:54:21 PDT 2009</td>\n",
       "      <td>NO_QUERY</td>\n",
       "      <td>megaman51</td>\n",
       "      <td>@bubblegumneko thats exactly what i wanted to ...</td>\n",
       "    </tr>\n",
       "    <tr>\n",
       "      <th>79997</th>\n",
       "      <td>549949</td>\n",
       "      <td>0</td>\n",
       "      <td>2202786119</td>\n",
       "      <td>Tue Jun 16 22:24:48 PDT 2009</td>\n",
       "      <td>NO_QUERY</td>\n",
       "      <td>Jillybeenc</td>\n",
       "      <td>I can not get over exactly how many bunnies I ...</td>\n",
       "    </tr>\n",
       "    <tr>\n",
       "      <th>79998</th>\n",
       "      <td>1174069</td>\n",
       "      <td>4</td>\n",
       "      <td>1980897008</td>\n",
       "      <td>Sun May 31 07:56:47 PDT 2009</td>\n",
       "      <td>NO_QUERY</td>\n",
       "      <td>Nakpangi</td>\n",
       "      <td>@1SHAWNL yes, you should go!</td>\n",
       "    </tr>\n",
       "    <tr>\n",
       "      <th>79999</th>\n",
       "      <td>993572</td>\n",
       "      <td>4</td>\n",
       "      <td>1835411804</td>\n",
       "      <td>Mon May 18 05:56:01 PDT 2009</td>\n",
       "      <td>NO_QUERY</td>\n",
       "      <td>nettyp</td>\n",
       "      <td>@wisdomismisery i know bewski I know</td>\n",
       "    </tr>\n",
       "  </tbody>\n",
       "</table>\n",
       "<p>80000 rows × 7 columns</p>\n",
       "</div>"
      ],
      "text/plain": [
       "         index  0           1                             2         3  \\\n",
       "0       668398  0  2245920843  Fri Jun 19 16:50:02 PDT 2009  NO_QUERY   \n",
       "1      1144666  4  1977656935  Sat May 30 21:25:13 PDT 2009  NO_QUERY   \n",
       "2        12539  0  1551867108  Sat Apr 18 10:10:39 PDT 2009  NO_QUERY   \n",
       "3       160964  0  1957186411  Thu May 28 23:45:44 PDT 2009  NO_QUERY   \n",
       "4      1381570  4  2052377265  Sat Jun 06 00:31:37 PDT 2009  NO_QUERY   \n",
       "...        ... ..         ...                           ...       ...   \n",
       "79995   200817  0  1971755047  Sat May 30 07:49:37 PDT 2009  NO_QUERY   \n",
       "79996   400336  0  2057384652  Sat Jun 06 12:54:21 PDT 2009  NO_QUERY   \n",
       "79997   549949  0  2202786119  Tue Jun 16 22:24:48 PDT 2009  NO_QUERY   \n",
       "79998  1174069  4  1980897008  Sun May 31 07:56:47 PDT 2009  NO_QUERY   \n",
       "79999   993572  4  1835411804  Mon May 18 05:56:01 PDT 2009  NO_QUERY   \n",
       "\n",
       "                   4                                                  5  \n",
       "0      smellyocheese                   I fell asleep with my makeup on   \n",
       "1      Veronicaleigh  We decided to head tome tonight  watch out Bel...  \n",
       "2           fryfan20               @BertaWooster no, don't think it is   \n",
       "3       ItsIMANIrose       @professor12 gray! .... i so feel neglected   \n",
       "4        DaysiJazmin        Anywho Tomorow is Movie Night @ Courtney's   \n",
       "...              ...                                                ...  \n",
       "79995    ChelseyHart  @tommcfly UK is pretty sunny today aswell! Don...  \n",
       "79996      megaman51  @bubblegumneko thats exactly what i wanted to ...  \n",
       "79997     Jillybeenc  I can not get over exactly how many bunnies I ...  \n",
       "79998       Nakpangi                      @1SHAWNL yes, you should go!   \n",
       "79999         nettyp              @wisdomismisery i know bewski I know   \n",
       "\n",
       "[80000 rows x 7 columns]"
      ]
     },
     "execution_count": 8,
     "metadata": {},
     "output_type": "execute_result"
    }
   ],
   "source": [
    "twit"
   ]
  },
  {
   "cell_type": "code",
   "execution_count": 9,
   "id": "cb2011dd",
   "metadata": {
    "id": "cb2011dd"
   },
   "outputs": [],
   "source": [
    "twit.columns = ['index','sentiment', 'id', 'date', 'query', 'user_name', 'tweet']"
   ]
  },
  {
   "cell_type": "code",
   "execution_count": 10,
   "id": "17b3bfc9",
   "metadata": {
    "id": "17b3bfc9",
    "outputId": "a0851199-5006-496a-fc1e-7f012a280085"
   },
   "outputs": [
    {
     "data": {
      "text/html": [
       "<div>\n",
       "<style scoped>\n",
       "    .dataframe tbody tr th:only-of-type {\n",
       "        vertical-align: middle;\n",
       "    }\n",
       "\n",
       "    .dataframe tbody tr th {\n",
       "        vertical-align: top;\n",
       "    }\n",
       "\n",
       "    .dataframe thead th {\n",
       "        text-align: right;\n",
       "    }\n",
       "</style>\n",
       "<table border=\"1\" class=\"dataframe\">\n",
       "  <thead>\n",
       "    <tr style=\"text-align: right;\">\n",
       "      <th></th>\n",
       "      <th>index</th>\n",
       "      <th>sentiment</th>\n",
       "      <th>id</th>\n",
       "      <th>date</th>\n",
       "      <th>query</th>\n",
       "      <th>user_name</th>\n",
       "      <th>tweet</th>\n",
       "    </tr>\n",
       "  </thead>\n",
       "  <tbody>\n",
       "    <tr>\n",
       "      <th>0</th>\n",
       "      <td>668398</td>\n",
       "      <td>0</td>\n",
       "      <td>2245920843</td>\n",
       "      <td>Fri Jun 19 16:50:02 PDT 2009</td>\n",
       "      <td>NO_QUERY</td>\n",
       "      <td>smellyocheese</td>\n",
       "      <td>I fell asleep with my makeup on</td>\n",
       "    </tr>\n",
       "    <tr>\n",
       "      <th>1</th>\n",
       "      <td>1144666</td>\n",
       "      <td>4</td>\n",
       "      <td>1977656935</td>\n",
       "      <td>Sat May 30 21:25:13 PDT 2009</td>\n",
       "      <td>NO_QUERY</td>\n",
       "      <td>Veronicaleigh</td>\n",
       "      <td>We decided to head tome tonight  watch out Bel...</td>\n",
       "    </tr>\n",
       "    <tr>\n",
       "      <th>2</th>\n",
       "      <td>12539</td>\n",
       "      <td>0</td>\n",
       "      <td>1551867108</td>\n",
       "      <td>Sat Apr 18 10:10:39 PDT 2009</td>\n",
       "      <td>NO_QUERY</td>\n",
       "      <td>fryfan20</td>\n",
       "      <td>@BertaWooster no, don't think it is</td>\n",
       "    </tr>\n",
       "    <tr>\n",
       "      <th>3</th>\n",
       "      <td>160964</td>\n",
       "      <td>0</td>\n",
       "      <td>1957186411</td>\n",
       "      <td>Thu May 28 23:45:44 PDT 2009</td>\n",
       "      <td>NO_QUERY</td>\n",
       "      <td>ItsIMANIrose</td>\n",
       "      <td>@professor12 gray! .... i so feel neglected</td>\n",
       "    </tr>\n",
       "    <tr>\n",
       "      <th>4</th>\n",
       "      <td>1381570</td>\n",
       "      <td>4</td>\n",
       "      <td>2052377265</td>\n",
       "      <td>Sat Jun 06 00:31:37 PDT 2009</td>\n",
       "      <td>NO_QUERY</td>\n",
       "      <td>DaysiJazmin</td>\n",
       "      <td>Anywho Tomorow is Movie Night @ Courtney's</td>\n",
       "    </tr>\n",
       "    <tr>\n",
       "      <th>...</th>\n",
       "      <td>...</td>\n",
       "      <td>...</td>\n",
       "      <td>...</td>\n",
       "      <td>...</td>\n",
       "      <td>...</td>\n",
       "      <td>...</td>\n",
       "      <td>...</td>\n",
       "    </tr>\n",
       "    <tr>\n",
       "      <th>79995</th>\n",
       "      <td>200817</td>\n",
       "      <td>0</td>\n",
       "      <td>1971755047</td>\n",
       "      <td>Sat May 30 07:49:37 PDT 2009</td>\n",
       "      <td>NO_QUERY</td>\n",
       "      <td>ChelseyHart</td>\n",
       "      <td>@tommcfly UK is pretty sunny today aswell! Don...</td>\n",
       "    </tr>\n",
       "    <tr>\n",
       "      <th>79996</th>\n",
       "      <td>400336</td>\n",
       "      <td>0</td>\n",
       "      <td>2057384652</td>\n",
       "      <td>Sat Jun 06 12:54:21 PDT 2009</td>\n",
       "      <td>NO_QUERY</td>\n",
       "      <td>megaman51</td>\n",
       "      <td>@bubblegumneko thats exactly what i wanted to ...</td>\n",
       "    </tr>\n",
       "    <tr>\n",
       "      <th>79997</th>\n",
       "      <td>549949</td>\n",
       "      <td>0</td>\n",
       "      <td>2202786119</td>\n",
       "      <td>Tue Jun 16 22:24:48 PDT 2009</td>\n",
       "      <td>NO_QUERY</td>\n",
       "      <td>Jillybeenc</td>\n",
       "      <td>I can not get over exactly how many bunnies I ...</td>\n",
       "    </tr>\n",
       "    <tr>\n",
       "      <th>79998</th>\n",
       "      <td>1174069</td>\n",
       "      <td>4</td>\n",
       "      <td>1980897008</td>\n",
       "      <td>Sun May 31 07:56:47 PDT 2009</td>\n",
       "      <td>NO_QUERY</td>\n",
       "      <td>Nakpangi</td>\n",
       "      <td>@1SHAWNL yes, you should go!</td>\n",
       "    </tr>\n",
       "    <tr>\n",
       "      <th>79999</th>\n",
       "      <td>993572</td>\n",
       "      <td>4</td>\n",
       "      <td>1835411804</td>\n",
       "      <td>Mon May 18 05:56:01 PDT 2009</td>\n",
       "      <td>NO_QUERY</td>\n",
       "      <td>nettyp</td>\n",
       "      <td>@wisdomismisery i know bewski I know</td>\n",
       "    </tr>\n",
       "  </tbody>\n",
       "</table>\n",
       "<p>80000 rows × 7 columns</p>\n",
       "</div>"
      ],
      "text/plain": [
       "         index  sentiment          id                          date     query  \\\n",
       "0       668398          0  2245920843  Fri Jun 19 16:50:02 PDT 2009  NO_QUERY   \n",
       "1      1144666          4  1977656935  Sat May 30 21:25:13 PDT 2009  NO_QUERY   \n",
       "2        12539          0  1551867108  Sat Apr 18 10:10:39 PDT 2009  NO_QUERY   \n",
       "3       160964          0  1957186411  Thu May 28 23:45:44 PDT 2009  NO_QUERY   \n",
       "4      1381570          4  2052377265  Sat Jun 06 00:31:37 PDT 2009  NO_QUERY   \n",
       "...        ...        ...         ...                           ...       ...   \n",
       "79995   200817          0  1971755047  Sat May 30 07:49:37 PDT 2009  NO_QUERY   \n",
       "79996   400336          0  2057384652  Sat Jun 06 12:54:21 PDT 2009  NO_QUERY   \n",
       "79997   549949          0  2202786119  Tue Jun 16 22:24:48 PDT 2009  NO_QUERY   \n",
       "79998  1174069          4  1980897008  Sun May 31 07:56:47 PDT 2009  NO_QUERY   \n",
       "79999   993572          4  1835411804  Mon May 18 05:56:01 PDT 2009  NO_QUERY   \n",
       "\n",
       "           user_name                                              tweet  \n",
       "0      smellyocheese                   I fell asleep with my makeup on   \n",
       "1      Veronicaleigh  We decided to head tome tonight  watch out Bel...  \n",
       "2           fryfan20               @BertaWooster no, don't think it is   \n",
       "3       ItsIMANIrose       @professor12 gray! .... i so feel neglected   \n",
       "4        DaysiJazmin        Anywho Tomorow is Movie Night @ Courtney's   \n",
       "...              ...                                                ...  \n",
       "79995    ChelseyHart  @tommcfly UK is pretty sunny today aswell! Don...  \n",
       "79996      megaman51  @bubblegumneko thats exactly what i wanted to ...  \n",
       "79997     Jillybeenc  I can not get over exactly how many bunnies I ...  \n",
       "79998       Nakpangi                      @1SHAWNL yes, you should go!   \n",
       "79999         nettyp              @wisdomismisery i know bewski I know   \n",
       "\n",
       "[80000 rows x 7 columns]"
      ]
     },
     "execution_count": 10,
     "metadata": {},
     "output_type": "execute_result"
    }
   ],
   "source": [
    "twit"
   ]
  },
  {
   "cell_type": "code",
   "execution_count": 11,
   "id": "69845ac8",
   "metadata": {
    "id": "69845ac8"
   },
   "outputs": [],
   "source": [
    "twit.drop(['index','id', 'date', 'query', 'user_name'], inplace=True, axis=1)"
   ]
  },
  {
   "cell_type": "code",
   "execution_count": 12,
   "id": "f3d8e180",
   "metadata": {
    "id": "f3d8e180",
    "outputId": "c61114ef-6399-4ddb-f409-500058837523"
   },
   "outputs": [
    {
     "data": {
      "text/html": [
       "<div>\n",
       "<style scoped>\n",
       "    .dataframe tbody tr th:only-of-type {\n",
       "        vertical-align: middle;\n",
       "    }\n",
       "\n",
       "    .dataframe tbody tr th {\n",
       "        vertical-align: top;\n",
       "    }\n",
       "\n",
       "    .dataframe thead th {\n",
       "        text-align: right;\n",
       "    }\n",
       "</style>\n",
       "<table border=\"1\" class=\"dataframe\">\n",
       "  <thead>\n",
       "    <tr style=\"text-align: right;\">\n",
       "      <th></th>\n",
       "      <th>sentiment</th>\n",
       "      <th>tweet</th>\n",
       "    </tr>\n",
       "  </thead>\n",
       "  <tbody>\n",
       "    <tr>\n",
       "      <th>0</th>\n",
       "      <td>0</td>\n",
       "      <td>I fell asleep with my makeup on</td>\n",
       "    </tr>\n",
       "    <tr>\n",
       "      <th>1</th>\n",
       "      <td>4</td>\n",
       "      <td>We decided to head tome tonight  watch out Bel...</td>\n",
       "    </tr>\n",
       "    <tr>\n",
       "      <th>2</th>\n",
       "      <td>0</td>\n",
       "      <td>@BertaWooster no, don't think it is</td>\n",
       "    </tr>\n",
       "    <tr>\n",
       "      <th>3</th>\n",
       "      <td>0</td>\n",
       "      <td>@professor12 gray! .... i so feel neglected</td>\n",
       "    </tr>\n",
       "    <tr>\n",
       "      <th>4</th>\n",
       "      <td>4</td>\n",
       "      <td>Anywho Tomorow is Movie Night @ Courtney's</td>\n",
       "    </tr>\n",
       "    <tr>\n",
       "      <th>...</th>\n",
       "      <td>...</td>\n",
       "      <td>...</td>\n",
       "    </tr>\n",
       "    <tr>\n",
       "      <th>79995</th>\n",
       "      <td>0</td>\n",
       "      <td>@tommcfly UK is pretty sunny today aswell! Don...</td>\n",
       "    </tr>\n",
       "    <tr>\n",
       "      <th>79996</th>\n",
       "      <td>0</td>\n",
       "      <td>@bubblegumneko thats exactly what i wanted to ...</td>\n",
       "    </tr>\n",
       "    <tr>\n",
       "      <th>79997</th>\n",
       "      <td>0</td>\n",
       "      <td>I can not get over exactly how many bunnies I ...</td>\n",
       "    </tr>\n",
       "    <tr>\n",
       "      <th>79998</th>\n",
       "      <td>4</td>\n",
       "      <td>@1SHAWNL yes, you should go!</td>\n",
       "    </tr>\n",
       "    <tr>\n",
       "      <th>79999</th>\n",
       "      <td>4</td>\n",
       "      <td>@wisdomismisery i know bewski I know</td>\n",
       "    </tr>\n",
       "  </tbody>\n",
       "</table>\n",
       "<p>80000 rows × 2 columns</p>\n",
       "</div>"
      ],
      "text/plain": [
       "       sentiment                                              tweet\n",
       "0              0                   I fell asleep with my makeup on \n",
       "1              4  We decided to head tome tonight  watch out Bel...\n",
       "2              0               @BertaWooster no, don't think it is \n",
       "3              0       @professor12 gray! .... i so feel neglected \n",
       "4              4        Anywho Tomorow is Movie Night @ Courtney's \n",
       "...          ...                                                ...\n",
       "79995          0  @tommcfly UK is pretty sunny today aswell! Don...\n",
       "79996          0  @bubblegumneko thats exactly what i wanted to ...\n",
       "79997          0  I can not get over exactly how many bunnies I ...\n",
       "79998          4                      @1SHAWNL yes, you should go! \n",
       "79999          4              @wisdomismisery i know bewski I know \n",
       "\n",
       "[80000 rows x 2 columns]"
      ]
     },
     "execution_count": 12,
     "metadata": {},
     "output_type": "execute_result"
    }
   ],
   "source": [
    "twit"
   ]
  },
  {
   "cell_type": "code",
   "execution_count": 13,
   "id": "7e90fb80",
   "metadata": {
    "id": "7e90fb80",
    "outputId": "3230f2c3-d58e-453c-ef92-2e961fea9902"
   },
   "outputs": [
    {
     "data": {
      "text/plain": [
       "4    40147\n",
       "0    39853\n",
       "Name: sentiment, dtype: int64"
      ]
     },
     "execution_count": 13,
     "metadata": {},
     "output_type": "execute_result"
    }
   ],
   "source": [
    "twit.sentiment.value_counts()"
   ]
  },
  {
   "cell_type": "code",
   "execution_count": 14,
   "id": "89b7f456",
   "metadata": {
    "id": "89b7f456",
    "outputId": "f06aed4f-f181-4116-9d66-9381259993b5"
   },
   "outputs": [],
   "source": [
    "plt.show()"
   ]
  },
  {
   "cell_type": "code",
   "execution_count": 15,
   "id": "cdad2d6b",
   "metadata": {
    "id": "cdad2d6b",
    "outputId": "2067411e-98d7-415a-d587-9fb6e10aa89a"
   },
   "outputs": [
    {
     "name": "stdout",
     "output_type": "stream",
     "text": [
      "I fell asleep with my makeup on \n",
      "<======================>\n",
      "['I', 'fell', 'asleep', 'with', 'my', 'makeup', 'on']\n"
     ]
    }
   ],
   "source": [
    "t = twit['tweet'][0]\n",
    "print(t)\n",
    "print(\"<======================>\")\n",
    "print(word_tokenize(t))"
   ]
  },
  {
   "cell_type": "code",
   "execution_count": 16,
   "id": "fcd2e948",
   "metadata": {
    "id": "fcd2e948"
   },
   "outputs": [],
   "source": [
    "corpus=[]\n",
    "for text in twit['tweet']:\n",
    "    words = [word.lower() for word in word_tokenize(text)]\n",
    "    corpus.append(words)"
   ]
  },
  {
   "cell_type": "code",
   "execution_count": 17,
   "id": "9f3f2dac",
   "metadata": {
    "id": "9f3f2dac",
    "outputId": "7ed36470-2eb4-4967-be60-959f7f5df1cc"
   },
   "outputs": [
    {
     "name": "stdout",
     "output_type": "stream",
     "text": [
      "80000\n"
     ]
    }
   ],
   "source": [
    "num_words=len(corpus)\n",
    "print(num_words)"
   ]
  },
  {
   "cell_type": "code",
   "execution_count": 18,
   "id": "08a0418e",
   "metadata": {
    "id": "08a0418e",
    "outputId": "21d0c916-5b83-496d-9491-2ecd96a720d7"
   },
   "outputs": [
    {
     "data": {
      "text/plain": [
       "(80000, 2)"
      ]
     },
     "execution_count": 18,
     "metadata": {},
     "output_type": "execute_result"
    }
   ],
   "source": [
    "twit.shape"
   ]
  },
  {
   "cell_type": "code",
   "execution_count": 19,
   "id": "6b109a06",
   "metadata": {
    "id": "6b109a06"
   },
   "outputs": [],
   "source": [
    "twit['tweet']=twit['tweet'].str.lower()"
   ]
  },
  {
   "cell_type": "code",
   "execution_count": 20,
   "id": "0883c63c",
   "metadata": {
    "id": "0883c63c",
    "outputId": "5505b2b7-44b3-41bf-b1ca-84493a017137"
   },
   "outputs": [
    {
     "data": {
      "text/html": [
       "<div>\n",
       "<style scoped>\n",
       "    .dataframe tbody tr th:only-of-type {\n",
       "        vertical-align: middle;\n",
       "    }\n",
       "\n",
       "    .dataframe tbody tr th {\n",
       "        vertical-align: top;\n",
       "    }\n",
       "\n",
       "    .dataframe thead th {\n",
       "        text-align: right;\n",
       "    }\n",
       "</style>\n",
       "<table border=\"1\" class=\"dataframe\">\n",
       "  <thead>\n",
       "    <tr style=\"text-align: right;\">\n",
       "      <th></th>\n",
       "      <th>sentiment</th>\n",
       "      <th>tweet</th>\n",
       "    </tr>\n",
       "  </thead>\n",
       "  <tbody>\n",
       "    <tr>\n",
       "      <th>0</th>\n",
       "      <td>0</td>\n",
       "      <td>i fell asleep with my makeup on</td>\n",
       "    </tr>\n",
       "    <tr>\n",
       "      <th>1</th>\n",
       "      <td>4</td>\n",
       "      <td>we decided to head tome tonight  watch out bel...</td>\n",
       "    </tr>\n",
       "    <tr>\n",
       "      <th>2</th>\n",
       "      <td>0</td>\n",
       "      <td>@bertawooster no, don't think it is</td>\n",
       "    </tr>\n",
       "    <tr>\n",
       "      <th>3</th>\n",
       "      <td>0</td>\n",
       "      <td>@professor12 gray! .... i so feel neglected</td>\n",
       "    </tr>\n",
       "    <tr>\n",
       "      <th>4</th>\n",
       "      <td>4</td>\n",
       "      <td>anywho tomorow is movie night @ courtney's</td>\n",
       "    </tr>\n",
       "    <tr>\n",
       "      <th>...</th>\n",
       "      <td>...</td>\n",
       "      <td>...</td>\n",
       "    </tr>\n",
       "    <tr>\n",
       "      <th>79995</th>\n",
       "      <td>0</td>\n",
       "      <td>@tommcfly uk is pretty sunny today aswell! don...</td>\n",
       "    </tr>\n",
       "    <tr>\n",
       "      <th>79996</th>\n",
       "      <td>0</td>\n",
       "      <td>@bubblegumneko thats exactly what i wanted to ...</td>\n",
       "    </tr>\n",
       "    <tr>\n",
       "      <th>79997</th>\n",
       "      <td>0</td>\n",
       "      <td>i can not get over exactly how many bunnies i ...</td>\n",
       "    </tr>\n",
       "    <tr>\n",
       "      <th>79998</th>\n",
       "      <td>4</td>\n",
       "      <td>@1shawnl yes, you should go!</td>\n",
       "    </tr>\n",
       "    <tr>\n",
       "      <th>79999</th>\n",
       "      <td>4</td>\n",
       "      <td>@wisdomismisery i know bewski i know</td>\n",
       "    </tr>\n",
       "  </tbody>\n",
       "</table>\n",
       "<p>80000 rows × 2 columns</p>\n",
       "</div>"
      ],
      "text/plain": [
       "       sentiment                                              tweet\n",
       "0              0                   i fell asleep with my makeup on \n",
       "1              4  we decided to head tome tonight  watch out bel...\n",
       "2              0               @bertawooster no, don't think it is \n",
       "3              0       @professor12 gray! .... i so feel neglected \n",
       "4              4        anywho tomorow is movie night @ courtney's \n",
       "...          ...                                                ...\n",
       "79995          0  @tommcfly uk is pretty sunny today aswell! don...\n",
       "79996          0  @bubblegumneko thats exactly what i wanted to ...\n",
       "79997          0  i can not get over exactly how many bunnies i ...\n",
       "79998          4                      @1shawnl yes, you should go! \n",
       "79999          4              @wisdomismisery i know bewski i know \n",
       "\n",
       "[80000 rows x 2 columns]"
      ]
     },
     "execution_count": 20,
     "metadata": {},
     "output_type": "execute_result"
    }
   ],
   "source": [
    "twit"
   ]
  },
  {
   "cell_type": "code",
   "execution_count": 21,
   "id": "3869cbfd",
   "metadata": {
    "id": "3869cbfd"
   },
   "outputs": [],
   "source": [
    "# Removing stopwords from the review column\n",
    "twit['tweet']=twit['tweet'].apply(lambda x:\" \".join(word for word in x.split() if word not in stpwrds))"
   ]
  },
  {
   "cell_type": "code",
   "execution_count": 22,
   "id": "ff7bb1a6",
   "metadata": {
    "id": "ff7bb1a6",
    "outputId": "a902adc3-bdbb-45f4-cdf0-29913101f7cb"
   },
   "outputs": [
    {
     "data": {
      "text/html": [
       "<div>\n",
       "<style scoped>\n",
       "    .dataframe tbody tr th:only-of-type {\n",
       "        vertical-align: middle;\n",
       "    }\n",
       "\n",
       "    .dataframe tbody tr th {\n",
       "        vertical-align: top;\n",
       "    }\n",
       "\n",
       "    .dataframe thead th {\n",
       "        text-align: right;\n",
       "    }\n",
       "</style>\n",
       "<table border=\"1\" class=\"dataframe\">\n",
       "  <thead>\n",
       "    <tr style=\"text-align: right;\">\n",
       "      <th></th>\n",
       "      <th>sentiment</th>\n",
       "      <th>tweet</th>\n",
       "    </tr>\n",
       "  </thead>\n",
       "  <tbody>\n",
       "    <tr>\n",
       "      <th>0</th>\n",
       "      <td>0</td>\n",
       "      <td>fell asleep makeup</td>\n",
       "    </tr>\n",
       "    <tr>\n",
       "      <th>1</th>\n",
       "      <td>4</td>\n",
       "      <td>decided head tome tonight watch bellevue haha ...</td>\n",
       "    </tr>\n",
       "    <tr>\n",
       "      <th>2</th>\n",
       "      <td>0</td>\n",
       "      <td>@bertawooster no, think</td>\n",
       "    </tr>\n",
       "    <tr>\n",
       "      <th>3</th>\n",
       "      <td>0</td>\n",
       "      <td>@professor12 gray! .... feel neglected</td>\n",
       "    </tr>\n",
       "    <tr>\n",
       "      <th>4</th>\n",
       "      <td>4</td>\n",
       "      <td>anywho tomorow movie night @ courtney's</td>\n",
       "    </tr>\n",
       "    <tr>\n",
       "      <th>...</th>\n",
       "      <td>...</td>\n",
       "      <td>...</td>\n",
       "    </tr>\n",
       "    <tr>\n",
       "      <th>79995</th>\n",
       "      <td>0</td>\n",
       "      <td>@tommcfly uk pretty sunny today aswell! forget...</td>\n",
       "    </tr>\n",
       "    <tr>\n",
       "      <th>79996</th>\n",
       "      <td>0</td>\n",
       "      <td>@bubblegumneko thats exactly wanted hear.</td>\n",
       "    </tr>\n",
       "    <tr>\n",
       "      <th>79997</th>\n",
       "      <td>0</td>\n",
       "      <td>get exactly many bunnies saw uvic today! thoug...</td>\n",
       "    </tr>\n",
       "    <tr>\n",
       "      <th>79998</th>\n",
       "      <td>4</td>\n",
       "      <td>@1shawnl yes, go!</td>\n",
       "    </tr>\n",
       "    <tr>\n",
       "      <th>79999</th>\n",
       "      <td>4</td>\n",
       "      <td>@wisdomismisery know bewski know</td>\n",
       "    </tr>\n",
       "  </tbody>\n",
       "</table>\n",
       "<p>80000 rows × 2 columns</p>\n",
       "</div>"
      ],
      "text/plain": [
       "       sentiment                                              tweet\n",
       "0              0                                 fell asleep makeup\n",
       "1              4  decided head tome tonight watch bellevue haha ...\n",
       "2              0                            @bertawooster no, think\n",
       "3              0             @professor12 gray! .... feel neglected\n",
       "4              4            anywho tomorow movie night @ courtney's\n",
       "...          ...                                                ...\n",
       "79995          0  @tommcfly uk pretty sunny today aswell! forget...\n",
       "79996          0          @bubblegumneko thats exactly wanted hear.\n",
       "79997          0  get exactly many bunnies saw uvic today! thoug...\n",
       "79998          4                                  @1shawnl yes, go!\n",
       "79999          4                   @wisdomismisery know bewski know\n",
       "\n",
       "[80000 rows x 2 columns]"
      ]
     },
     "execution_count": 22,
     "metadata": {},
     "output_type": "execute_result"
    }
   ],
   "source": [
    "twit"
   ]
  },
  {
   "cell_type": "code",
   "execution_count": 23,
   "id": "6d3440e6",
   "metadata": {
    "id": "6d3440e6"
   },
   "outputs": [],
   "source": [
    "import string # special operations on strings like removing the punctuations from the sentences\n",
    "def remove_punc(text):\n",
    "    no_punc= text.translate(str.maketrans('', '', string.punctuation))\n",
    "    return no_punc"
   ]
  },
  {
   "cell_type": "code",
   "execution_count": 24,
   "id": "7d6a606d",
   "metadata": {
    "id": "7d6a606d"
   },
   "outputs": [],
   "source": [
    "twit['tweet']=twit['tweet'].apply(remove_punc)"
   ]
  },
  {
   "cell_type": "code",
   "execution_count": 25,
   "id": "18786951",
   "metadata": {
    "id": "18786951",
    "outputId": "503fc37d-7959-4341-ea97-c9753636be3b"
   },
   "outputs": [
    {
     "data": {
      "text/html": [
       "<div>\n",
       "<style scoped>\n",
       "    .dataframe tbody tr th:only-of-type {\n",
       "        vertical-align: middle;\n",
       "    }\n",
       "\n",
       "    .dataframe tbody tr th {\n",
       "        vertical-align: top;\n",
       "    }\n",
       "\n",
       "    .dataframe thead th {\n",
       "        text-align: right;\n",
       "    }\n",
       "</style>\n",
       "<table border=\"1\" class=\"dataframe\">\n",
       "  <thead>\n",
       "    <tr style=\"text-align: right;\">\n",
       "      <th></th>\n",
       "      <th>sentiment</th>\n",
       "      <th>tweet</th>\n",
       "    </tr>\n",
       "  </thead>\n",
       "  <tbody>\n",
       "    <tr>\n",
       "      <th>0</th>\n",
       "      <td>0</td>\n",
       "      <td>fell asleep makeup</td>\n",
       "    </tr>\n",
       "    <tr>\n",
       "      <th>1</th>\n",
       "      <td>4</td>\n",
       "      <td>decided head tome tonight watch bellevue haha ...</td>\n",
       "    </tr>\n",
       "    <tr>\n",
       "      <th>2</th>\n",
       "      <td>0</td>\n",
       "      <td>bertawooster no think</td>\n",
       "    </tr>\n",
       "    <tr>\n",
       "      <th>3</th>\n",
       "      <td>0</td>\n",
       "      <td>professor12 gray  feel neglected</td>\n",
       "    </tr>\n",
       "    <tr>\n",
       "      <th>4</th>\n",
       "      <td>4</td>\n",
       "      <td>anywho tomorow movie night  courtneys</td>\n",
       "    </tr>\n",
       "    <tr>\n",
       "      <th>...</th>\n",
       "      <td>...</td>\n",
       "      <td>...</td>\n",
       "    </tr>\n",
       "    <tr>\n",
       "      <th>79995</th>\n",
       "      <td>0</td>\n",
       "      <td>tommcfly uk pretty sunny today aswell forget f...</td>\n",
       "    </tr>\n",
       "    <tr>\n",
       "      <th>79996</th>\n",
       "      <td>0</td>\n",
       "      <td>bubblegumneko thats exactly wanted hear</td>\n",
       "    </tr>\n",
       "    <tr>\n",
       "      <th>79997</th>\n",
       "      <td>0</td>\n",
       "      <td>get exactly many bunnies saw uvic today though...</td>\n",
       "    </tr>\n",
       "    <tr>\n",
       "      <th>79998</th>\n",
       "      <td>4</td>\n",
       "      <td>1shawnl yes go</td>\n",
       "    </tr>\n",
       "    <tr>\n",
       "      <th>79999</th>\n",
       "      <td>4</td>\n",
       "      <td>wisdomismisery know bewski know</td>\n",
       "    </tr>\n",
       "  </tbody>\n",
       "</table>\n",
       "<p>80000 rows × 2 columns</p>\n",
       "</div>"
      ],
      "text/plain": [
       "       sentiment                                              tweet\n",
       "0              0                                 fell asleep makeup\n",
       "1              4  decided head tome tonight watch bellevue haha ...\n",
       "2              0                              bertawooster no think\n",
       "3              0                   professor12 gray  feel neglected\n",
       "4              4              anywho tomorow movie night  courtneys\n",
       "...          ...                                                ...\n",
       "79995          0  tommcfly uk pretty sunny today aswell forget f...\n",
       "79996          0            bubblegumneko thats exactly wanted hear\n",
       "79997          0  get exactly many bunnies saw uvic today though...\n",
       "79998          4                                     1shawnl yes go\n",
       "79999          4                    wisdomismisery know bewski know\n",
       "\n",
       "[80000 rows x 2 columns]"
      ]
     },
     "execution_count": 25,
     "metadata": {},
     "output_type": "execute_result"
    }
   ],
   "source": [
    "twit"
   ]
  },
  {
   "cell_type": "code",
   "execution_count": 26,
   "id": "c215a303",
   "metadata": {
    "id": "c215a303"
   },
   "outputs": [],
   "source": [
    "from sklearn.preprocessing import LabelEncoder\n",
    "en=LabelEncoder()\n",
    "twit['sentiment']=en.fit_transform(twit['sentiment'])"
   ]
  },
  {
   "cell_type": "code",
   "execution_count": 27,
   "id": "05248d24",
   "metadata": {
    "id": "05248d24",
    "outputId": "816b8203-47c2-4af2-efc2-59468720d87f"
   },
   "outputs": [
    {
     "data": {
      "text/html": [
       "<div>\n",
       "<style scoped>\n",
       "    .dataframe tbody tr th:only-of-type {\n",
       "        vertical-align: middle;\n",
       "    }\n",
       "\n",
       "    .dataframe tbody tr th {\n",
       "        vertical-align: top;\n",
       "    }\n",
       "\n",
       "    .dataframe thead th {\n",
       "        text-align: right;\n",
       "    }\n",
       "</style>\n",
       "<table border=\"1\" class=\"dataframe\">\n",
       "  <thead>\n",
       "    <tr style=\"text-align: right;\">\n",
       "      <th></th>\n",
       "      <th>sentiment</th>\n",
       "      <th>tweet</th>\n",
       "    </tr>\n",
       "  </thead>\n",
       "  <tbody>\n",
       "    <tr>\n",
       "      <th>0</th>\n",
       "      <td>0</td>\n",
       "      <td>fell asleep makeup</td>\n",
       "    </tr>\n",
       "    <tr>\n",
       "      <th>1</th>\n",
       "      <td>1</td>\n",
       "      <td>decided head tome tonight watch bellevue haha ...</td>\n",
       "    </tr>\n",
       "    <tr>\n",
       "      <th>2</th>\n",
       "      <td>0</td>\n",
       "      <td>bertawooster no think</td>\n",
       "    </tr>\n",
       "    <tr>\n",
       "      <th>3</th>\n",
       "      <td>0</td>\n",
       "      <td>professor12 gray  feel neglected</td>\n",
       "    </tr>\n",
       "    <tr>\n",
       "      <th>4</th>\n",
       "      <td>1</td>\n",
       "      <td>anywho tomorow movie night  courtneys</td>\n",
       "    </tr>\n",
       "    <tr>\n",
       "      <th>...</th>\n",
       "      <td>...</td>\n",
       "      <td>...</td>\n",
       "    </tr>\n",
       "    <tr>\n",
       "      <th>79995</th>\n",
       "      <td>0</td>\n",
       "      <td>tommcfly uk pretty sunny today aswell forget f...</td>\n",
       "    </tr>\n",
       "    <tr>\n",
       "      <th>79996</th>\n",
       "      <td>0</td>\n",
       "      <td>bubblegumneko thats exactly wanted hear</td>\n",
       "    </tr>\n",
       "    <tr>\n",
       "      <th>79997</th>\n",
       "      <td>0</td>\n",
       "      <td>get exactly many bunnies saw uvic today though...</td>\n",
       "    </tr>\n",
       "    <tr>\n",
       "      <th>79998</th>\n",
       "      <td>1</td>\n",
       "      <td>1shawnl yes go</td>\n",
       "    </tr>\n",
       "    <tr>\n",
       "      <th>79999</th>\n",
       "      <td>1</td>\n",
       "      <td>wisdomismisery know bewski know</td>\n",
       "    </tr>\n",
       "  </tbody>\n",
       "</table>\n",
       "<p>80000 rows × 2 columns</p>\n",
       "</div>"
      ],
      "text/plain": [
       "       sentiment                                              tweet\n",
       "0              0                                 fell asleep makeup\n",
       "1              1  decided head tome tonight watch bellevue haha ...\n",
       "2              0                              bertawooster no think\n",
       "3              0                   professor12 gray  feel neglected\n",
       "4              1              anywho tomorow movie night  courtneys\n",
       "...          ...                                                ...\n",
       "79995          0  tommcfly uk pretty sunny today aswell forget f...\n",
       "79996          0            bubblegumneko thats exactly wanted hear\n",
       "79997          0  get exactly many bunnies saw uvic today though...\n",
       "79998          1                                     1shawnl yes go\n",
       "79999          1                    wisdomismisery know bewski know\n",
       "\n",
       "[80000 rows x 2 columns]"
      ]
     },
     "execution_count": 27,
     "metadata": {},
     "output_type": "execute_result"
    }
   ],
   "source": [
    "twit"
   ]
  },
  {
   "cell_type": "code",
   "execution_count": 28,
   "id": "11005245",
   "metadata": {
    "id": "11005245"
   },
   "outputs": [],
   "source": [
    "X=twit['tweet']\n",
    "y=twit['sentiment']"
   ]
  },
  {
   "cell_type": "code",
   "execution_count": 29,
   "id": "f9f88eeb",
   "metadata": {
    "id": "f9f88eeb"
   },
   "outputs": [],
   "source": [
    "from sklearn.model_selection import train_test_split\n",
    "x_train, x_test, y_train, y_test=train_test_split(X,y,test_size=0.25, random_state=5)"
   ]
  },
  {
   "cell_type": "code",
   "execution_count": 30,
   "id": "f40088e4",
   "metadata": {
    "id": "f40088e4",
    "outputId": "d7cdee23-edad-4352-98d1-a6650e601208"
   },
   "outputs": [
    {
     "data": {
      "text/plain": [
       "((60000,), (60000,), (20000,), (20000,))"
      ]
     },
     "execution_count": 30,
     "metadata": {},
     "output_type": "execute_result"
    }
   ],
   "source": [
    "x_train.shape, y_train.shape, x_test.shape, y_test.shape"
   ]
  },
  {
   "cell_type": "code",
   "execution_count": 31,
   "id": "e7a938b5",
   "metadata": {
    "id": "e7a938b5"
   },
   "outputs": [],
   "source": [
    "tokenizer = Tokenizer(num_words)\n",
    "tokenizer.fit_on_texts(x_train)\n",
    "x_train = tokenizer.texts_to_sequences(x_train)\n",
    "x_train = pad_sequences(x_train, maxlen = 30, truncating = 'post', padding='post')"
   ]
  },
  {
   "cell_type": "code",
   "execution_count": 32,
   "id": "928f0f2c",
   "metadata": {
    "id": "928f0f2c",
    "outputId": "d4c7f350-eab6-4177-d40b-7ce5912cd519"
   },
   "outputs": [
    {
     "data": {
      "text/plain": [
       "(array([19295,  1506,   445, 19296,    17,   919,   197,  1043, 19297,\n",
       "         6749,  9422,     0,     0,     0,     0,     0,     0,     0,\n",
       "            0,     0,     0,     0,     0,     0,     0,     0,     0,\n",
       "            0,     0,     0]),\n",
       " 30)"
      ]
     },
     "execution_count": 32,
     "metadata": {},
     "output_type": "execute_result"
    }
   ],
   "source": [
    "x_train[1], len(x_train[1])"
   ]
  },
  {
   "cell_type": "code",
   "execution_count": 33,
   "id": "bcb222a5",
   "metadata": {
    "id": "bcb222a5"
   },
   "outputs": [],
   "source": [
    "x_test = tokenizer.texts_to_sequences(x_test)\n",
    "x_test = pad_sequences(x_test, maxlen = 30, truncating = 'post', padding='post')"
   ]
  },
  {
   "cell_type": "code",
   "execution_count": 34,
   "id": "b52324dd",
   "metadata": {
    "id": "b52324dd",
    "outputId": "fca6f872-faed-4da2-9b04-d3388aa5db83"
   },
   "outputs": [
    {
     "data": {
      "text/plain": [
       "((60000, 30), (60000,), (20000, 30), (20000,))"
      ]
     },
     "execution_count": 34,
     "metadata": {},
     "output_type": "execute_result"
    }
   ],
   "source": [
    "x_train.shape, y_train.shape, x_test.shape, y_test.shape"
   ]
  },
  {
   "cell_type": "code",
   "execution_count": 35,
   "id": "7bea7402",
   "metadata": {
    "id": "7bea7402",
    "outputId": "e2ca64c2-a9a9-4bfb-8d44-b85281785aae"
   },
   "outputs": [
    {
     "name": "stdout",
     "output_type": "stream",
     "text": [
      "Model: \"sequential\"\n",
      "_________________________________________________________________\n",
      " Layer (type)                Output Shape              Param #   \n",
      "=================================================================\n",
      " embedding (Embedding)       (None, 30, 32)            2560000   \n",
      "                                                                 \n",
      " lstm (LSTM)                 (None, 30, 100)           53200     \n",
      "                                                                 \n",
      " lstm_1 (LSTM)               (None, 100)               80400     \n",
      "                                                                 \n",
      " dense (Dense)               (None, 1)                 101       \n",
      "                                                                 \n",
      "=================================================================\n",
      "Total params: 2,693,701\n",
      "Trainable params: 2,693,701\n",
      "Non-trainable params: 0\n",
      "_________________________________________________________________\n"
     ]
    }
   ],
   "source": [
    "model =  Sequential()\n",
    "\n",
    "model.add(Embedding(input_dim=num_words, output_dim = 32, input_length=30))\n",
    "model.add(LSTM(100, dropout=0.1, return_sequences=True))\n",
    "model.add(LSTM(100, dropout=0.1))\n",
    "model.add(Dense(1, activation='sigmoid'))\n",
    "model.summary()"
   ]
  },
  {
   "cell_type": "code",
   "execution_count": 36,
   "id": "4a5d9bb8",
   "metadata": {
    "id": "4a5d9bb8"
   },
   "outputs": [],
   "source": [
    "model.compile(loss='binary_crossentropy', optimizer = 'adam', metrics = ['accuracy'])"
   ]
  },
  {
   "cell_type": "code",
   "execution_count": 37,
   "id": "a3245202",
   "metadata": {
    "id": "a3245202"
   },
   "outputs": [],
   "source": [
    "import tensorflow as tf\n",
    "early_stopping=tf.keras.callbacks.EarlyStopping(\n",
    "    monitor=\"val_loss\",\n",
    "    min_delta=0.001,\n",
    "    patience=5,\n",
    "    verbose=1,\n",
    "    mode=\"auto\",\n",
    "    baseline=None,\n",
    "    restore_best_weights=False,\n",
    ")"
   ]
  },
  {
   "cell_type": "code",
   "execution_count": 38,
   "id": "7596e8f2",
   "metadata": {
    "id": "7596e8f2",
    "outputId": "fe9e9671-cc11-4609-c510-29674d8e57ee"
   },
   "outputs": [
    {
     "name": "stdout",
     "output_type": "stream",
     "text": [
      "Epoch 1/100\n",
      "235/235 [==============================] - 69s 272ms/step - loss: 0.5704 - accuracy: 0.6871 - val_loss: 0.5086 - val_accuracy: 0.7552\n",
      "Epoch 2/100\n",
      "235/235 [==============================] - 65s 276ms/step - loss: 0.3888 - accuracy: 0.8324 - val_loss: 0.5215 - val_accuracy: 0.7445\n",
      "Epoch 3/100\n",
      "235/235 [==============================] - 65s 277ms/step - loss: 0.2508 - accuracy: 0.9011 - val_loss: 0.7069 - val_accuracy: 0.7175\n",
      "Epoch 4/100\n",
      "235/235 [==============================] - 65s 277ms/step - loss: 0.1709 - accuracy: 0.9338 - val_loss: 0.7795 - val_accuracy: 0.7106\n",
      "Epoch 5/100\n",
      "235/235 [==============================] - 66s 281ms/step - loss: 0.1319 - accuracy: 0.9484 - val_loss: 0.8598 - val_accuracy: 0.7156\n",
      "Epoch 6/100\n",
      "235/235 [==============================] - 65s 278ms/step - loss: 0.1091 - accuracy: 0.9567 - val_loss: 0.9737 - val_accuracy: 0.7127\n",
      "Epoch 6: early stopping\n"
     ]
    }
   ],
   "source": [
    "H = model.fit(x_train, y_train, epochs=100, batch_size=256, validation_data=(x_test, y_test), callbacks=[early_stopping])"
   ]
  },
  {
   "cell_type": "code",
   "execution_count": 39,
   "id": "b0e928fc",
   "metadata": {
    "id": "b0e928fc",
    "outputId": "a00259a1-ef41-44ff-ba66-7ca727d2d4d4"
   },
   "outputs": [
    {
     "data": {
      "text/plain": [
       "dict_keys(['loss', 'accuracy', 'val_loss', 'val_accuracy'])"
      ]
     },
     "execution_count": 39,
     "metadata": {},
     "output_type": "execute_result"
    }
   ],
   "source": [
    "H.history.keys()"
   ]
  },
  {
   "cell_type": "code",
   "execution_count": 40,
   "id": "df05e08c",
   "metadata": {
    "id": "df05e08c",
    "outputId": "e7690648-d1b5-4e19-94a1-08fea7b36ad1"
   },
   "outputs": [
    {
     "data": {
      "image/png": "[encoded data removed]",
      "text/plain": [
       "<Figure size 640x480 with 1 Axes>"
      ]
     },
     "metadata": {},
     "output_type": "display_data"
    }
   ],
   "source": [
    "plt.plot(H.history['accuracy'])\n",
    "plt.plot(H.history['val_accuracy'])\n",
    "plt.title(\"Model Accuracy\")\n",
    "plt.xlabel('Epochs')\n",
    "plt.ylabel('Accuracy')\n",
    "plt.legend(['train', 'test'], loc='lower right')\n",
    "plt.show()"
   ]
  },
  {
   "cell_type": "code",
   "execution_count": 41,
   "id": "0550ceb2",
   "metadata": {
    "id": "0550ceb2",
    "outputId": "82017b89-1b08-4666-a72d-904ed31f2295"
   },
   "outputs": [
    {
     "data": {
      "image/png": "[encoded data removed]",
      "text/plain": [
       "<Figure size 640x480 with 1 Axes>"
      ]
     },
     "metadata": {},
     "output_type": "display_data"
    }
   ],
   "source": [
    "plt.plot(H.history['loss'])\n",
    "plt.plot(H.history['val_loss'])\n",
    "plt.title(\"Model Loss\")\n",
    "plt.xlabel('Epochs')\n",
    "plt.ylabel('Loss')\n",
    "plt.legend(['train', 'test'], loc='upper right')\n",
    "plt.show()"
   ]
  },
  {
   "cell_type": "code",
   "execution_count": 42,
   "id": "dc196a0f",
   "metadata": {
    "id": "dc196a0f",
    "outputId": "129fc1b7-6d55-4e76-8f23-0e7fa5e9ccf1"
   },
   "outputs": [
    {
     "name": "stdout",
     "output_type": "stream",
     "text": [
      "625/625 [==============================] - 11s 18ms/step - loss: 0.9737 - accuracy: 0.7127\n"
     ]
    },
    {
     "data": {
      "text/plain": [
       "[0.9736921191215515, 0.7127000093460083]"
      ]
     },
     "execution_count": 42,
     "metadata": {},
     "output_type": "execute_result"
    }
   ],
   "source": [
    "model.evaluate(x_test, y_test)"
   ]
  },
  {
   "cell_type": "code",
   "execution_count": 43,
   "id": "e916836d",
   "metadata": {
    "id": "e916836d"
   },
   "outputs": [
    {
     "name": "stderr",
     "output_type": "stream",
     "text": [
      "WARNING:absl:Found untraced functions such as _update_step_xla, lstm_cell_layer_call_fn, lstm_cell_layer_call_and_return_conditional_losses, lstm_cell_1_layer_call_fn, lstm_cell_1_layer_call_and_return_conditional_losses while saving (showing 5 of 5). These functions will not be directly callable after loading.\n"
     ]
    },
    {
     "name": "stdout",
     "output_type": "stream",
     "text": [
      "INFO:tensorflow:Assets written to: Sentiment Analysis\\assets\n"
     ]
    },
    {
     "name": "stderr",
     "output_type": "stream",
     "text": [
      "INFO:tensorflow:Assets written to: Sentiment Analysis\\assets\n"
     ]
    }
   ],
   "source": [
    "model.save(\"Sentiment Analysis\")"
   ]
  },
  {
   "cell_type": "code",
   "execution_count": 44,
   "id": "0b572755",
   "metadata": {},
   "outputs": [],
   "source": [
    "# CONCLUSION:- USEFUL IN\n",
    "#     1 Stock Price Prediction\n",
    "#     2 Political Party uses to make Election Compaign Strategy\n",
    "#     3 Company make Advertisining Strategy in terms of Cost and Profit \n",
    "#     4 Consumer Behaviour Analysis"
   ]
  },
  {
   "cell_type": "code",
   "execution_count": null,
   "id": "8d3c342b",
   "metadata": {},
   "outputs": [],
   "source": []
  }
 ],
 "metadata": {
  "colab": {
   "provenance": []
  },
  "kernelspec": {
   "display_name": "Python 3 (ipykernel)",
   "language": "python",
   "name": "python3"
  },
  "language_info": {
   "codemirror_mode": {
    "name": "ipython",
    "version": 3
   },
   "file_extension": ".py",
   "mimetype": "text/x-python",
   "name": "python",
   "nbconvert_exporter": "python",
   "pygments_lexer": "ipython3",
   "version": "3.9.13"
  }
 },
 "nbformat": 4,
 "nbformat_minor": 5
}
